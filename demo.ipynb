{
 "cells": [
  {
   "cell_type": "markdown",
   "metadata": {},
   "source": [
    "# **Adaptive Quantitative Trading with Imitative Recurrent Deterministic Policy Gradient**\n",
    "*Lara Hofman, Mattia Martino, Sandro Mikautadze, Elio Samaha*"
   ]
  },
  {
   "cell_type": "markdown",
   "metadata": {},
   "source": [
    "This notebok contains a way to test the code of the report \"Adaptive Quantitative Trading with Imitative Recurrent Deterministic Policy Gradient\"."
   ]
  },
  {
   "cell_type": "markdown",
   "metadata": {},
   "source": [
    "## **Importing Libraries**"
   ]
  },
  {
   "cell_type": "markdown",
   "metadata": {},
   "source": [
    "The required libraries to run this notebook and all other python files are found in `requirements.txt`. You can install by uncommenting the cell below:"
   ]
  },
  {
   "cell_type": "code",
   "execution_count": 1,
   "metadata": {},
   "outputs": [],
   "source": [
    "# !pip install -r requirements.txt"
   ]
  },
  {
   "cell_type": "markdown",
   "metadata": {},
   "source": [
    "Here we import the ones needed for this demo"
   ]
  },
  {
   "cell_type": "code",
   "execution_count": null,
   "metadata": {},
   "outputs": [
    {
     "name": "stdout",
     "output_type": "stream",
     "text": [
      "Using device: cuda\n"
     ]
    }
   ],
   "source": [
    "import numpy as np\n",
    "import pandas as pd\n",
    "import matplotlib.pyplot as plt\n",
    "import torch\n",
    "from IPython.display import Image, display\n",
    "\n",
    "import os\n",
    "\n",
    "from scripts.Agent import iRDPGAgent\n",
    "from scripts.Env import POMDPTEnv\n",
    "\n",
    "device = torch.device(\"cuda\" if torch.cuda.is_available() else \"cpu\")\n",
    "print(\"Using device:\", device)"
   ]
  },
  {
   "cell_type": "markdown",
   "metadata": {},
   "source": [
    "## **Setup**"
   ]
  },
  {
   "cell_type": "markdown",
   "metadata": {},
   "source": [
    "Given the intricate nature of the setting, we needed to create a custom environment, based on the gym-trading-env. It can be found in `scripts/Env.py`, together with the helper functions to compute expert actions. The full agent, composed of the intial embedding GRU, actor, critic, and target networks, is implemented in `scripts/Agent.py`. Finally, the Prioritized Experience Replay Buffer is implemented in `scripts/PERBuffer.py`, together with the Episode class."
   ]
  },
  {
   "cell_type": "markdown",
   "metadata": {},
   "source": [
    "The data is retrieved using the `scripts/data_retrieval.py` script, which downloads the data from Alpaca Markets and stores it in a local folder. The preprocessing is done by the environment when it is created. When downloading the data, we select the minute-bar data from a specific interval, during the NSDQ opening hours (9:30-16:00 NYC time). \n",
    "\n",
    "*N.B. You need a `.env` file containing your API KEY and SECRET KEY in order to download the data with our script. For privacy reasons the ones of the authors are not provided.*"
   ]
  },
  {
   "cell_type": "markdown",
   "metadata": {},
   "source": [
    "For this demo, the models are trained on one month of data, namely from 2024-02-01 to 2024-02-29 (included). For time reasons, we provide the weights of the models, which can be found in `models/demo/checkpoint`. You can train the models by running the `train.py` file. Beware that on one NVIDIA GeForce RTX 3090 the training takes around 1 minute per epoch with a batch size of 32, and we train for 100 epochs. "
   ]
  },
  {
   "cell_type": "markdown",
   "metadata": {},
   "source": [
    "### **Baseline**"
   ]
  },
  {
   "cell_type": "markdown",
   "metadata": {},
   "source": [
    "As expalined in the report, we use the Dual Trust strategy as demonstration episodes for the agent. For this reason, we take the performance of this strategy as a baseline for our model. Since our model is trained on one month, we use the startegy on the same period. \n",
    "\n",
    "Some strategy parameters (window size, k1, k2) are hyperparameters, which can be optimized. Feel free to change them and see how the performance changes. The other values are usually takan as default for the market. "
   ]
  },
  {
   "cell_type": "code",
   "execution_count": 3,
   "metadata": {},
   "outputs": [],
   "source": [
    "df = pd.read_csv('data/train_one_month.csv')\n",
    "df['timestamp'] = pd.to_datetime(df['timestamp'])\n",
    "df.set_index('timestamp', inplace=True)\n",
    "df['date'] = df.index.date\n",
    "\n",
    "# --- Define Strategy Parameters ---\n",
    "window_size = 3\n",
    "k1 = 0.5\n",
    "k2 = 0.5\n",
    "initial_balance = 1_000\n",
    "transaction_cost = 2.3e-5\n",
    "slippage = 0.2  # Price adjustment on entry/exit\n",
    "risk_free_rate = 0.02  # Annual risk-free rate\n",
    "\n",
    "# --- Compute Daily Summary and Dual Thrust Lines ---\n",
    "daily_df = df.groupby('date').agg({\n",
    "    'open': 'first',\n",
    "    'high': 'max',\n",
    "    'low': 'min',\n",
    "    'close': 'last'\n",
    "})\n",
    "daily_df.dropna(subset=['open', 'high', 'low', 'close'], inplace=True)\n",
    "\n",
    "daily_df['HH'] = daily_df['high'].rolling(window=window_size).max()\n",
    "daily_df['HC'] = daily_df['close'].rolling(window=window_size).max()\n",
    "daily_df['LC'] = daily_df['close'].rolling(window=window_size).min()\n",
    "daily_df['LL'] = daily_df['low'].rolling(window=window_size).min()\n",
    "\n",
    "daily_df['Range'] = np.maximum(daily_df['HH'] - daily_df['LC'],\n",
    "                                 daily_df['HC'] - daily_df['LL'])\n",
    "daily_df['BuyLine'] = daily_df['open'] + k1 * daily_df['Range']\n",
    "daily_df['SellLine'] = daily_df['open'] - k2 * daily_df['Range']\n",
    "\n",
    "df = df.merge(daily_df[['BuyLine', 'SellLine']], left_on='date', right_index=True, how='left')\n",
    "df['BuyLine'] = df['BuyLine'].ffill()\n",
    "df['SellLine'] = df['SellLine'].ffill()\n",
    "\n",
    "df.reset_index(inplace=True)\n"
   ]
  },
  {
   "cell_type": "code",
   "execution_count": 4,
   "metadata": {},
   "outputs": [
    {
     "name": "stdout",
     "output_type": "stream",
     "text": [
      "Initial Balance: 1000.00\n",
      "Final Balance: 997.66\n",
      "Total Return: -0.2343%\n",
      "Average Minute Return: 0.000006%\n",
      "Minute Return Volatility: 0.002149%\n",
      "Sharpe Ratio: -2.10\n",
      "Maximum Drawdown: -0.34%\n"
     ]
    }
   ],
   "source": [
    "# --- Backtest Setup ---\n",
    "balance = initial_balance\n",
    "balances = []   \n",
    "minute_returns = [] \n",
    "position = 0        # 0 = hold, 1 = long, -1 = short\n",
    "entry_price = np.nan\n",
    "\n",
    "\n",
    "buy_points = []\n",
    "sell_points = []\n",
    "# --- Backtest Loop ---\n",
    "for i in range(len(df)):\n",
    "    row = df.loc[i]\n",
    "    current_date = row['date']\n",
    "    price_open = row['open']\n",
    "    price_close = row['close']\n",
    "    \n",
    "    if i < len(df) - 1:\n",
    "        next_date = df.loc[i+1, 'date']\n",
    "        end_of_day = (current_date != next_date)\n",
    "    else:\n",
    "        end_of_day = True\n",
    "\n",
    "    # --- Determine the Trade Signal Based on the Open Price ---\n",
    "    if price_open > row['BuyLine']:\n",
    "        new_signal = 1\n",
    "    elif price_open < row['SellLine']:\n",
    "        new_signal = -1\n",
    "    else:\n",
    "        new_signal = position  # Hold current position\n",
    "\n",
    "    if end_of_day:\n",
    "        new_signal = 0\n",
    "\n",
    "    # --- Trade Execution ---\n",
    "    if new_signal != position:\n",
    "        if position != 0:\n",
    "            if end_of_day:\n",
    "                if position == 1:\n",
    "                    effective_exit_price = price_close - slippage\n",
    "                    # sell signal on the plot\n",
    "                    sell_points.append((row['timestamp'], effective_exit_price))\n",
    "                    pnl_exit = (effective_exit_price - entry_price) * position - transaction_cost * effective_exit_price\n",
    "                else:\n",
    "                    effective_exit_price = price_close + slippage\n",
    "                    # buy signal on the plot\n",
    "                    buy_points.append((row['timestamp'], effective_exit_price))\n",
    "                    pnl_exit = (entry_price - effective_exit_price) * abs(position) - transaction_cost * effective_exit_price\n",
    "            else:\n",
    "                if position == 1:\n",
    "                    effective_exit_price = price_open - slippage\n",
    "                    sell_points.append((row['timestamp'], effective_exit_price))\n",
    "                    pnl_exit = (effective_exit_price - entry_price) * position - transaction_cost * effective_exit_price\n",
    "                else:\n",
    "                    effective_exit_price = price_open + slippage\n",
    "                    buy_points.append((row['timestamp'], effective_exit_price))\n",
    "                    pnl_exit = (entry_price - effective_exit_price) * abs(position) - transaction_cost * effective_exit_price\n",
    "            balance += pnl_exit\n",
    "            position = 0  # reset the position\n",
    "            entry_price = np.nan\n",
    "\n",
    "        # Enter a new position if the new signal is nonzero\n",
    "        if new_signal != 0:\n",
    "            if new_signal == 1:\n",
    "                effective_entry_price = price_open + slippage\n",
    "                buy_points.append((row['timestamp'], effective_entry_price))\n",
    "            else:\n",
    "                effective_entry_price = price_open - slippage\n",
    "                sell_points.append((row['timestamp'], effective_entry_price))\n",
    "            entry_price = effective_entry_price\n",
    "            position = new_signal\n",
    "\n",
    "    # --- Compute PnL for the Minute ---\n",
    "    if position == 1:\n",
    "        pnl = (price_close - price_open)\n",
    "    elif position == -1:\n",
    "        pnl = (price_open - price_close)\n",
    "    else:\n",
    "        pnl = 0\n",
    "\n",
    "    balance += pnl\n",
    "    minute_ret = pnl / balance if balance != 0 else 0\n",
    "    minute_returns.append(minute_ret)\n",
    "    balances.append(balance)\n",
    "\n",
    "# --- Performance Metrics ---\n",
    "total_return = (balance - initial_balance) / initial_balance * 100\n",
    "avg_minute_return = np.mean(minute_returns) * 100\n",
    "volatility = np.std(minute_returns) * 100\n",
    "\n",
    "# Annualize Sharpe Ratio from minute returns\n",
    "trading_minutes_per_year = 252 * 390  # Typical number of trading minutes per year\n",
    "minute_risk_free_rate = risk_free_rate / trading_minutes_per_year\n",
    "excess_minute_returns = np.array(minute_returns) - minute_risk_free_rate\n",
    "sharpe_ratio = (np.mean(excess_minute_returns) / (np.std(minute_returns) if np.std(minute_returns) else 1)) * np.sqrt(trading_minutes_per_year)\n",
    "\n",
    "balances_array = np.array(balances)\n",
    "peak_balance = np.maximum.accumulate(balances_array)\n",
    "drawdowns = (balances_array - peak_balance) / peak_balance\n",
    "max_drawdown = np.min(drawdowns) * 100\n",
    "print(f\"Initial Balance: {initial_balance:.2f}\")\n",
    "print(f\"Final Balance: {balance:.2f}\")\n",
    "print(f\"Total Return: {total_return:.4f}%\")\n",
    "print(f\"Average Minute Return: {avg_minute_return:.6f}%\")\n",
    "print(f\"Minute Return Volatility: {volatility:.6f}%\")\n",
    "print(f\"Sharpe Ratio: {sharpe_ratio:.2f}\")\n",
    "print(f\"Maximum Drawdown: {max_drawdown:.2f}%\")"
   ]
  },
  {
   "cell_type": "markdown",
   "metadata": {},
   "source": [
    "As we can the performance of the strategy is not optimal, as we are loosing money (only 3 euros in one month). The strategy is stable enough to be a baseline for our model, which is encouraged to explore."
   ]
  },
  {
   "cell_type": "code",
   "execution_count": 5,
   "metadata": {},
   "outputs": [
    {
     "data": {
      "image/png": "[encoded data removed]",
      "text/plain": [
       "<Figure size 1000x600 with 1 Axes>"
      ]
     },
     "metadata": {},
     "output_type": "display_data"
    }
   ],
   "source": [
    "plt.figure(figsize=(10,6))\n",
    "plt.plot(balances, label=\"Balance\")\n",
    "plt.title(\"Dual Thrust Strategy: Intraday Account Balance\")\n",
    "plt.xlabel(\"Trading Step\")\n",
    "plt.ylabel(\"Account Balance ($)\")\n",
    "plt.legend()\n",
    "plt.grid(True)\n",
    "plt.show()"
   ]
  },
  {
   "cell_type": "markdown",
   "metadata": {},
   "source": [
    "In this figure we can see the movement of the balance over the month. The first holding line is due to the window size, which leaves the first *n* days without buy and sell lines, and thus signals. "
   ]
  },
  {
   "cell_type": "markdown",
   "metadata": {},
   "source": [
    "## **Model Evaluation**"
   ]
  },
  {
   "cell_type": "markdown",
   "metadata": {},
   "source": [
    "Now, we will evaluate our trained model. For the purpose of the demo, we trained on 100 epochs. Let's start by defining the model loader."
   ]
  },
  {
   "cell_type": "code",
   "execution_count": 6,
   "metadata": {},
   "outputs": [],
   "source": [
    "def load_model(agent, filename=\"trained_irdpg.pth\"):\n",
    "    checkpoint = torch.load(filename, map_location=agent.device)\n",
    "\n",
    "    agent.actor_gru.load_state_dict(checkpoint[\"actor_gru\"])\n",
    "    agent.actor_fc.load_state_dict(checkpoint[\"actor_fc\"])\n",
    "    agent.critic_gru.load_state_dict(checkpoint[\"critic_gru\"])\n",
    "    agent.critic_fc.load_state_dict(checkpoint[\"critic_fc\"])\n",
    "    agent.target_actor.load_state_dict(checkpoint[\"target_actor_gru\"])\n",
    "    agent.target_actor_fc.load_state_dict(checkpoint[\"target_actor_fc\"])\n",
    "    agent.target_critic.load_state_dict(checkpoint[\"target_critic_gru\"])\n",
    "    agent.target_critic_fc.load_state_dict(checkpoint[\"target_critic_fc\"])\n",
    "\n",
    "    return agent"
   ]
  },
  {
   "cell_type": "markdown",
   "metadata": {},
   "source": [
    "You can use whatever dataset you want for the evaluation. In the `data/` folder we provide the one month, three months, six months, and the full year. Here, we do the evaluation on an unseen month, i.e. March 2023."
   ]
  },
  {
   "cell_type": "code",
   "execution_count": null,
   "metadata": {},
   "outputs": [],
   "source": [
    "df = pd.read_csv('data/evaluate_one_month.csv')\n",
    "# One can take only a few days to evalutate the model (e.g., 5 days takes around 5 minutes on RTX 3090)\n",
    "df = df[:390*5]"
   ]
  },
  {
   "cell_type": "code",
   "execution_count": 56,
   "metadata": {},
   "outputs": [],
   "source": [
    "env = POMDPTEnv(df, window_size=1) # Since we are working with few days, we use a window size of 1\n",
    "agent = iRDPGAgent(obs_dim=env.observation_space.shape[0], device=device)"
   ]
  },
  {
   "cell_type": "code",
   "execution_count": null,
   "metadata": {},
   "outputs": [],
   "source": [
    "def evaluate(agent, env, model_path, images_path, report_path, num_episodes=390, risk_free_rate=0.0, scaling_factor=None, save_plots=False):\n",
    "    \"\"\"\n",
    "    Evaluate the RL agent on the trading environment and compute performance metrics.\n",
    "    \n",
    "    Parameters:\n",
    "        agent: The RL agent instance.\n",
    "        env: The trading environment.\n",
    "        model_path: Path to the saved model checkpoint.\n",
    "        images_path: Directory to save evaluation plots.\n",
    "        num_episodes: Number of evaluation episodes.\n",
    "        risk_free_rate: Annual risk-free rate (default 0.0). \n",
    "                        Used to compute the per-period risk-free rate for excess returns.\n",
    "        scaling_factor: Scaling factor for Sharpe ratio. Defaults to 252 for daily returns. \n",
    "                        (e.g., use 252*390 for minute-level returns.)\n",
    "        save_plots: If True, save plots of portfolio value over time.\n",
    "    \n",
    "    Returns:\n",
    "        metrics: A dictionary with lists for each metric across episodes.\n",
    "        report: A dictionary with aggregated metrics (averaged over episodes.\n",
    "    \"\"\"\n",
    "    import os, numpy as np, matplotlib.pyplot as plt, torch\n",
    "    from tqdm import trange\n",
    "\n",
    "    os.makedirs(images_path, exist_ok=True)\n",
    "    os.makedirs(report_path, exist_ok=True)\n",
    "\n",
    "    agent = load_model(agent, model_path)\n",
    "    agent.eval()\n",
    "\n",
    "    metrics = {\n",
    "        'cumulative_returns': [],\n",
    "        'annualized_sharpe': [],\n",
    "        'max_drawdowns': [],\n",
    "        'win_rate': [],\n",
    "        'profit_factor': [],\n",
    "        'num_trades': [],\n",
    "        'action_distribution': [],\n",
    "        'portfolio_values': []\n",
    "    }\n",
    "\n",
    "    if scaling_factor is None:\n",
    "        scaling_factor = 390  # Default to minute-level returns\n",
    "\n",
    "    # Evaluate over the specified number of episodes\n",
    "    for ep_idx in trange(num_episodes, desc=\"Evaluating Episodes\"):\n",
    "        obs = env.reset()\n",
    "        h_actor = None\n",
    "        done = False\n",
    "\n",
    "        # Initialize episode tracking variables.\n",
    "        portfolio = [env.initial_balance]  # Portfolio value time series\n",
    "        actions = []                       # Raw actions from agent\n",
    "        trade_returns = []                 # Returns computed from changes in balance\n",
    "        current_balance = env.initial_balance\n",
    "        prev_position = env.position       # To detect when a trade occurs\n",
    "        num_trades = 0\n",
    "\n",
    "        while not done:\n",
    "            # Get previous action if exists.\n",
    "            prev_action = actions[-1] if actions else None\n",
    "            \n",
    "            # Get the agent's action. The act() method returns a tensor.\n",
    "            with torch.no_grad():\n",
    "                action_tensor, h_actor = agent.act(obs, prev_action, h_actor)\n",
    "            \n",
    "            action = action_tensor\n",
    "            actions.append(action)\n",
    "            \n",
    "            # Execute the action in the environment.\n",
    "            next_obs, reward, done, _ = env.step(action)\n",
    "            new_balance = env.balance\n",
    "            trade_return = new_balance - current_balance\n",
    "            trade_returns.append(trade_return)\n",
    "            portfolio.append(new_balance)\n",
    "\n",
    "            # Count a trade if the agent's position changes.\n",
    "            if env.position != prev_position:\n",
    "                num_trades += 1\n",
    "            prev_position = env.position\n",
    "            current_balance = new_balance\n",
    "            obs = next_obs\n",
    "\n",
    "        portfolio = np.array(portfolio)\n",
    "        returns = np.array(trade_returns)\n",
    "\n",
    "        # Compute cumulative return (%)\n",
    "        cumulative_return = (portfolio[-1] / portfolio[0] - 1) * 100\n",
    "\n",
    "        # Compute Sharpe Ratio.\n",
    "        if len(returns) > 1 and np.std(returns) > 0:\n",
    "            per_period_rf = risk_free_rate / scaling_factor\n",
    "            excess_returns = returns - per_period_rf\n",
    "            sharpe = (np.mean(excess_returns) / np.std(excess_returns)) * np.sqrt(scaling_factor)\n",
    "        else:\n",
    "            sharpe = 0.0\n",
    "\n",
    "        # Compute Maximum Drawdown (%)\n",
    "        peak = np.maximum.accumulate(portfolio)\n",
    "        drawdown = (peak - portfolio) / peak\n",
    "        max_drawdown = np.max(drawdown) * 100\n",
    "\n",
    "        # Compute win rate and profit factor based on trade returns.\n",
    "        wins = returns[returns > 0]\n",
    "        losses = returns[returns < 0]\n",
    "        win_rate = (len(wins) / len(returns)) * 100 if len(returns) > 0 else 0.0\n",
    "        profit_factor = (np.sum(wins) / np.abs(np.sum(losses))) if np.abs(np.sum(losses)) > 0 else np.inf\n",
    "\n",
    "        # Convert continuous action outputs into discrete decisions:\n",
    "        discrete_actions = [1 if a[0] >= a[1] else -1 for a in actions]\n",
    "        action_dist = {'long': discrete_actions.count(1), 'short': discrete_actions.count(-1)}\n",
    "\n",
    "        # Store metrics for the episode.\n",
    "        metrics['cumulative_returns'].append(cumulative_return)\n",
    "        metrics['annualized_sharpe'].append(sharpe)\n",
    "        metrics['max_drawdowns'].append(max_drawdown)\n",
    "        metrics['win_rate'].append(win_rate)\n",
    "        metrics['profit_factor'].append(profit_factor)\n",
    "        metrics['num_trades'].append(num_trades)\n",
    "        metrics['action_distribution'].append(action_dist)\n",
    "        metrics['portfolio_values'].append(portfolio)\n",
    "\n",
    "        if save_plots:\n",
    "            # Save plots for this episode\n",
    "            plt.figure(figsize=(10, 6))\n",
    "            plt.plot(portfolio, label='Portfolio Value')\n",
    "            plt.title(f'Episode {ep_idx+1}: Portfolio Value Over Time')\n",
    "            plt.xlabel('Time Step')\n",
    "            plt.ylabel('Portfolio Value')\n",
    "            plt.legend()\n",
    "            plt.grid(True)\n",
    "            plt.savefig(os.path.join(images_path, f'portfolio_episode_{ep_idx+1}.png'))\n",
    "            plt.close()\n",
    "\n",
    "    # Generate aggregated report (averaged across episodes)\n",
    "    report = {\n",
    "        'cumulative_return (%)': f\"{np.mean(metrics['cumulative_returns']):.2f}\",\n",
    "        'sharpe_ratio': f\"{np.nanmean(metrics['annualized_sharpe']):.2f}\",\n",
    "        'max_drawdown (%)': f\"{np.mean(metrics['max_drawdowns']):.2f}\",\n",
    "        'win_rate (%)': f\"{np.mean(metrics['win_rate']):.2f}\",\n",
    "        'profit_factor': f\"{np.mean(metrics['profit_factor']):.2f}\",\n",
    "        'avg_num_trades': f\"{np.mean(metrics['num_trades']):.1f}\"\n",
    "    }\n",
    "\n",
    "    report_df = pd.DataFrame([report])\n",
    "    report_df.to_csv(os.path.join(report_path, 'performance_metrics.csv'), index=False)\n",
    "\n",
    "    return metrics, report\n",
    "\n",
    "def plot_action_distribution(action_distributions, images_path):\n",
    "    \"\"\"\n",
    "    Plot the average action distribution over episodes.\n",
    "    \n",
    "    Parameters:\n",
    "        action_distributions: A list of dictionaries containing action counts for each episode,\n",
    "                              where each dictionary has keys 'long' and 'short'.\n",
    "        images_path: Directory to save the plot.\n",
    "    \"\"\"\n",
    "    import os, numpy as np, matplotlib.pyplot as plt\n",
    "\n",
    "    counts = np.array([[d['long'], d['short']] for d in action_distributions])\n",
    "\n",
    "    avg_actions = np.mean(counts, axis=0)\n",
    "    total = np.sum(avg_actions)\n",
    "    if total > 0:\n",
    "        avg_prob = avg_actions / total\n",
    "    else:\n",
    "        avg_prob = avg_actions\n",
    "\n",
    "    plt.figure(figsize=(8, 4))\n",
    "    plt.bar(['Long', 'Short'], avg_prob, color=['green', 'red'])\n",
    "    plt.title('Average Action Distribution')\n",
    "    plt.ylabel('Probability')\n",
    "    plt.ylim(0, 1)\n",
    "    plt.savefig(os.path.join(images_path, 'action_distribution.png'))\n",
    "    plt.close()"
   ]
  },
  {
   "cell_type": "markdown",
   "metadata": {},
   "source": [
    "Our evaluation loop simply runs the model on the dataset and stores the different evaluation metrics. It also generates images in `evaluate/images/demo` if `save_plots` set to true (beware it will save one plot per episode). Let's assess the performance over the unseen month. "
   ]
  },
  {
   "cell_type": "code",
   "execution_count": null,
   "metadata": {},
   "outputs": [
    {
     "name": "stderr",
     "output_type": "stream",
     "text": [
      "Evaluating Episodes:   0%|          | 0/7820 [00:00<?, ?it/s]"
     ]
    },
    {
     "name": "stderr",
     "output_type": "stream",
     "text": [
      "Evaluating Episodes: 100%|██████████| 7820/7820 [21:02<00:00,  6.19it/s]\n"
     ]
    },
    {
     "name": "stdout",
     "output_type": "stream",
     "text": [
      "Aggregated Evaluation Report:\n",
      "cumulative_return (%): -15.61\n",
      "sharpe_ratio: -174.63\n",
      "max_drawdown (%): 15.61\n",
      "win_rate (%): 0.00\n",
      "profit_factor: 0.00\n",
      "avg_num_trades: 1.0\n"
     ]
    }
   ],
   "source": [
    "encoder = \"gru_encoder\" # Encoder type used in the model (check the models directory)\n",
    "model_path = \"models/\" + encoder + \"/checkpoint/trained_irdpg_100.pth\"\n",
    "images_path = \"evaluation/images/\" + encoder  # Directory to save evaluation plots\n",
    "report_path = \"evaluation/reports/\" + encoder  # Directory to save performance metrics\n",
    "num_episodes = len(df)    # Number of episodes to evaluate\n",
    "risk_free_rate = 0.02   # For example, 2% annual risk-free rate\n",
    "scaling_factor = 390    # Use 390 for minute-level returns\n",
    "\n",
    "# Run the evaluation function.\n",
    "metrics, report = evaluate(agent, env, model_path, images_path, report_path, num_episodes, risk_free_rate, scaling_factor)\n",
    "\n",
    "# Print the aggregated evaluation report.\n",
    "print(\"Aggregated Evaluation Report:\")\n",
    "for key, value in report.items():\n",
    "    print(f\"{key}: {value}\")\n",
    "\n",
    "# Plot the average action distribution using the data from metrics.\n",
    "plot_action_distribution(metrics['action_distribution'], images_path)"
   ]
  },
  {
   "cell_type": "markdown",
   "metadata": {},
   "source": [
    "Here we can see the distribution of the actions taken by the model."
   ]
  },
  {
   "cell_type": "code",
   "execution_count": null,
   "metadata": {},
   "outputs": [
    {
     "data": {
      "image/png": "[encoded data removed]",
      "text/plain": [
       "<IPython.core.display.Image object>"
      ]
     },
     "metadata": {},
     "output_type": "display_data"
    }
   ],
   "source": [
    "display(Image(filename= images_path + '/action_distribution.png'))"
   ]
  },
  {
   "cell_type": "markdown",
   "metadata": {},
   "source": [
    "If needed the report printed above can be found in the `evaluation/reports/` folder."
   ]
  },
  {
   "cell_type": "code",
   "execution_count": null,
   "metadata": {},
   "outputs": [],
   "source": [
    "pd.read_csv(report_path + '/performance_metrics.csv')"
   ]
  }
 ],
 "metadata": {
  "kernelspec": {
   "display_name": "env_rl",
   "language": "python",
   "name": "python3"
  },
  "language_info": {
   "codemirror_mode": {
    "name": "ipython",
    "version": 3
   },
   "file_extension": ".py",
   "mimetype": "text/x-python",
   "name": "python",
   "nbconvert_exporter": "python",
   "pygments_lexer": "ipython3",
   "version": "3.9.21"
  }
 },
 "nbformat": 4,
 "nbformat_minor": 2
}
